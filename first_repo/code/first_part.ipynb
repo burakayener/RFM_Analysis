{
 "cells": [
  {
   "cell_type": "code",
   "execution_count": 1,
   "id": "1e376060",
   "metadata": {},
   "outputs": [],
   "source": [
    "# Importaning packages that we need\n",
    "from eda import * \n",
    "import pandas as pd\n",
    "import numpy as np\n",
    "from sklearn.cluster import KMeans\n",
    "from data_prep import * \n",
    "from sklearn.preprocessing import StandardScaler\n",
    "from yellowbrick.cluster import KElbowVisualizer\n",
    "from sklearn.preprocessing import MinMaxScaler\n",
    "import pickle\n",
    "from converting_helpers import *"
   ]
  },
  {
   "cell_type": "markdown",
   "id": "2fc97069",
   "metadata": {},
   "source": [
    "# Retail Data to RFM Data"
   ]
  },
  {
   "cell_type": "code",
   "execution_count": 2,
   "id": "7fa871ab",
   "metadata": {},
   "outputs": [],
   "source": [
    "retail_df = load_excel(\"online_retails.xlsx\")"
   ]
  },
  {
   "cell_type": "code",
   "execution_count": 3,
   "id": "b8f54028",
   "metadata": {},
   "outputs": [
    {
     "name": "stdout",
     "output_type": "stream",
     "text": [
      "##################### Shape #####################\n",
      "(541909, 8)\n",
      "##################### Types #####################\n",
      "InvoiceNo              object\n",
      "StockCode              object\n",
      "Description            object\n",
      "Quantity                int64\n",
      "InvoiceDate    datetime64[ns]\n",
      "UnitPrice             float64\n",
      "CustomerID            float64\n",
      "Country                object\n",
      "dtype: object\n",
      "##################### Head #####################\n",
      "  InvoiceNo StockCode                          Description  Quantity  \\\n",
      "0    536365    85123A   WHITE HANGING HEART T-LIGHT HOLDER         6   \n",
      "1    536365     71053                  WHITE METAL LANTERN         6   \n",
      "2    536365    84406B       CREAM CUPID HEARTS COAT HANGER         8   \n",
      "3    536365    84029G  KNITTED UNION FLAG HOT WATER BOTTLE         6   \n",
      "4    536365    84029E       RED WOOLLY HOTTIE WHITE HEART.         6   \n",
      "\n",
      "          InvoiceDate  UnitPrice  CustomerID         Country  \n",
      "0 2010-12-01 08:26:00       2.55     17850.0  United Kingdom  \n",
      "1 2010-12-01 08:26:00       3.39     17850.0  United Kingdom  \n",
      "2 2010-12-01 08:26:00       2.75     17850.0  United Kingdom  \n",
      "3 2010-12-01 08:26:00       3.39     17850.0  United Kingdom  \n",
      "4 2010-12-01 08:26:00       3.39     17850.0  United Kingdom  \n",
      "##################### Tail #####################\n",
      "       InvoiceNo StockCode                      Description  Quantity  \\\n",
      "541904    581587     22613      PACK OF 20 SPACEBOY NAPKINS        12   \n",
      "541905    581587     22899     CHILDREN'S APRON DOLLY GIRL          6   \n",
      "541906    581587     23254    CHILDRENS CUTLERY DOLLY GIRL          4   \n",
      "541907    581587     23255  CHILDRENS CUTLERY CIRCUS PARADE         4   \n",
      "541908    581587     22138    BAKING SET 9 PIECE RETROSPOT          3   \n",
      "\n",
      "               InvoiceDate  UnitPrice  CustomerID Country  \n",
      "541904 2011-12-09 12:50:00       0.85     12680.0  France  \n",
      "541905 2011-12-09 12:50:00       2.10     12680.0  France  \n",
      "541906 2011-12-09 12:50:00       4.15     12680.0  France  \n",
      "541907 2011-12-09 12:50:00       4.15     12680.0  France  \n",
      "541908 2011-12-09 12:50:00       4.95     12680.0  France  \n",
      "##################### NA #####################\n",
      "InvoiceNo           0\n",
      "StockCode           0\n",
      "Description      1454\n",
      "Quantity            0\n",
      "InvoiceDate         0\n",
      "UnitPrice           0\n",
      "CustomerID     135080\n",
      "Country             0\n",
      "dtype: int64\n",
      "##################### Quantiles #####################\n",
      "                0.00      0.05      0.50      0.95     0.99     1.00\n",
      "Quantity   -80995.00      1.00      3.00     29.00    100.0  80995.0\n",
      "UnitPrice  -11062.06      0.42      2.08      9.95     18.0  38970.0\n",
      "CustomerID  12346.00  12626.00  15152.00  17905.00  18212.0  18287.0\n"
     ]
    }
   ],
   "source": [
    "check_df(retail_df)"
   ]
  },
  {
   "cell_type": "code",
   "execution_count": 4,
   "id": "1f7f7220",
   "metadata": {},
   "outputs": [
    {
     "name": "stdout",
     "output_type": "stream",
     "text": [
      "We cleaned data from 'UnitPrice' columns that price is lower  than 0 or equal\n",
      "We clear data from 'Cancelled' orders denoted by 'C in InvoiceNo'\n"
     ]
    }
   ],
   "source": [
    "retail_df, cancelled_orders = cleaning_retail_df(retail_df)"
   ]
  },
  {
   "cell_type": "code",
   "execution_count": 5,
   "id": "759cb1db",
   "metadata": {},
   "outputs": [
    {
     "name": "stdout",
     "output_type": "stream",
     "text": [
      "We have diffrent 4338 customers.\n",
      "In this data there are some NA's in CustomerId. We have to clean it before RFM Analysis.\n"
     ]
    }
   ],
   "source": [
    "retail_df = drop_customer_na(retail_df)"
   ]
  },
  {
   "cell_type": "code",
   "execution_count": 6,
   "id": "36e9069f",
   "metadata": {},
   "outputs": [
    {
     "name": "stdout",
     "output_type": "stream",
     "text": [
      "##################### Shape #####################\n",
      "(397884, 8)\n",
      "##################### Types #####################\n",
      "InvoiceNo              object\n",
      "StockCode              object\n",
      "Description            object\n",
      "Quantity                int64\n",
      "InvoiceDate    datetime64[ns]\n",
      "UnitPrice             float64\n",
      "CustomerID            float64\n",
      "Country                object\n",
      "dtype: object\n",
      "##################### Head #####################\n",
      "  InvoiceNo StockCode                         Description  Quantity  \\\n",
      "0    536365    85123A  WHITE HANGING HEART T-LIGHT HOLDER         6   \n",
      "1    536365     71053                 WHITE METAL LANTERN         6   \n",
      "\n",
      "          InvoiceDate  UnitPrice  CustomerID         Country  \n",
      "0 2010-12-01 08:26:00       2.55     17850.0  United Kingdom  \n",
      "1 2010-12-01 08:26:00       3.39     17850.0  United Kingdom  \n",
      "##################### Tail #####################\n",
      "       InvoiceNo StockCode                      Description  Quantity  \\\n",
      "541907    581587     23255  CHILDRENS CUTLERY CIRCUS PARADE         4   \n",
      "541908    581587     22138    BAKING SET 9 PIECE RETROSPOT          3   \n",
      "\n",
      "               InvoiceDate  UnitPrice  CustomerID Country  \n",
      "541907 2011-12-09 12:50:00       4.15     12680.0  France  \n",
      "541908 2011-12-09 12:50:00       4.95     12680.0  France  \n",
      "##################### NA #####################\n",
      "InvoiceNo      0\n",
      "StockCode      0\n",
      "Description    0\n",
      "Quantity       0\n",
      "InvoiceDate    0\n",
      "UnitPrice      0\n",
      "CustomerID     0\n",
      "Country        0\n",
      "dtype: int64\n",
      "##################### Quantiles #####################\n",
      "                 0.00      0.05      0.50     0.95      0.99      1.00\n",
      "Quantity        1.000      1.00      6.00     36.0    120.00  80995.00\n",
      "UnitPrice       0.001      0.42      1.95      8.5     14.95   8142.75\n",
      "CustomerID  12346.000  12627.00  15159.00  17912.0  18211.00  18287.00\n"
     ]
    }
   ],
   "source": [
    "check_df(retail_df, head=2)"
   ]
  },
  {
   "cell_type": "code",
   "execution_count": 7,
   "id": "8e2cb9cd",
   "metadata": {},
   "outputs": [
    {
     "name": "stdout",
     "output_type": "stream",
     "text": [
      "We drop 'InvoiceDate' column and add 3 new columns respectively 'NEW_COST, NEW_DATE, NEW_TIME'\n",
      "  INVOICENO STOCKCODE                         DESCRIPTION  QUANTITY  \\\n",
      "0    536365    85123A  WHITE HANGING HEART T-LIGHT HOLDER         6   \n",
      "1    536365     71053                 WHITE METAL LANTERN         6   \n",
      "\n",
      "   UNITPRICE  CUSTOMERID         COUNTRY  NEW_COST    NEW_DATE  NEW_TIME  \n",
      "0       2.55     17850.0  United Kingdom     15.30  2010-12-01  08:26:00  \n",
      "1       3.39     17850.0  United Kingdom     20.34  2010-12-01  08:26:00  \n"
     ]
    }
   ],
   "source": [
    "retail_df = adding_new_columns(retail_df)"
   ]
  },
  {
   "cell_type": "code",
   "execution_count": 8,
   "id": "62a3dbac",
   "metadata": {},
   "outputs": [
    {
     "name": "stdout",
     "output_type": "stream",
     "text": [
      "First Date: 2010-12-01, Last Date: 2011-12-09\n",
      "RFM Data is succesfully created and saved as 'retail_to_rfm_df''\n"
     ]
    }
   ],
   "source": [
    "rfm_df = creating_rfm_data(retail_df, \"retail_to_rfm_df\")"
   ]
  },
  
}
